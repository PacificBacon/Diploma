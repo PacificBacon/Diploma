{
  "nbformat": 4,
  "nbformat_minor": 0,
  "metadata": {
    "colab": {
      "provenance": []
    },
    "kernelspec": {
      "name": "python3",
      "display_name": "Python 3"
    },
    "language_info": {
      "name": "python"
    }
  },
  "cells": [
    {
      "cell_type": "code",
      "execution_count": null,
      "metadata": {
        "id": "_QmYIGg2XEXr"
      },
      "outputs": [],
      "source": [
        "import numpy as np\n",
        "from scipy.linalg import sqrtm, inv"
      ]
    },
    {
      "cell_type": "code",
      "source": [
        "def get_synthetic_data(n, d, r, scale):\n",
        "  '''\n",
        "  return:\n",
        "  X of shape (n, d)\n",
        "  Y of shape (n,)\n",
        "  UZ of shape (d, r)\n",
        "  Sigma of shape (d, d)\n",
        "  '''\n",
        "\n",
        "  UZ = np.random.randn(d, r)\n",
        "  s1 = np.diag((np.arange(r, 0, -1))**scale)\n",
        "  SigmaZ = UZ @ s1 @ UZ.T\n",
        "\n",
        "  SigmaX = np.eye(d)\n",
        "  X = np.random.randn(n, d) @ np.sqrt(SigmaX)\n",
        "  Y = np.sum((X @ SigmaZ) * X, axis=1)\n",
        "\n",
        "  return X, Y, UZ, SigmaZ, s1"
      ],
      "metadata": {
        "id": "8jwcdlQZi5uo"
      },
      "execution_count": null,
      "outputs": []
    },
    {
      "cell_type": "code",
      "source": [
        "import matplotlib.pyplot as plt"
      ],
      "metadata": {
        "id": "A8WndF96ts1P"
      },
      "execution_count": null,
      "outputs": []
    },
    {
      "cell_type": "code",
      "source": [
        "mean = [0, 0]\n",
        "\n",
        "cov = [[1, 0], [0, 100]]\n",
        "np.random.multivariate_normal(mean, cov, 5).shape"
      ],
      "metadata": {
        "colab": {
          "base_uri": "https://localhost:8080/"
        },
        "id": "3eViBmkjE7Kt",
        "outputId": "df71e1b3-d2b4-4ae1-a4bd-c65b780b200f"
      },
      "execution_count": null,
      "outputs": [
        {
          "output_type": "execute_result",
          "data": {
            "text/plain": [
              "(5, 2)"
            ]
          },
          "metadata": {},
          "execution_count": 4
        }
      ]
    },
    {
      "cell_type": "code",
      "source": [
        "kek = np.array([[1, 2], [3, 4]])\n",
        "print(kek)\n",
        "kek = kek.reshape(-1, order='F')\n",
        "print(kek)\n",
        "kek = kek.reshape((2, 2), order='F')\n",
        "print(kek)"
      ],
      "metadata": {
        "colab": {
          "base_uri": "https://localhost:8080/"
        },
        "id": "Uz9UF_jUFdQW",
        "outputId": "a8b8eae8-8c2e-453d-f7ab-0adfb93d3a44"
      },
      "execution_count": null,
      "outputs": [
        {
          "output_type": "stream",
          "name": "stdout",
          "text": [
            "[[1 2]\n",
            " [3 4]]\n",
            "[1 3 2 4]\n",
            "[[1 2]\n",
            " [3 4]]\n"
          ]
        }
      ]
    },
    {
      "cell_type": "code",
      "source": [
        "def generate_reg_data(q, p, N, K_sum):\n",
        "  theta_true = np.random.randn(p, q)\n",
        "  A_list = [np.random.randn(q, q) for k in range(K_sum)]\n",
        "  B_list = [np.random.randn(p, p) for k in range(K_sum)]\n",
        "  sigma_true = np.zeros((p * q, p * q))\n",
        "  for k in range(K_sum):\n",
        "    A = A_list[k]\n",
        "    B = B_list[k]\n",
        "    sigma_true += np.kron(A @ A.T, B @ B.T)\n",
        "  sigma_true /= K_sum\n",
        "\n",
        "  X_samples = np.random.default_rng().multivariate_normal(np.zeros(p * q), sigma_true, N, check_valid=\"warn\")\n",
        "  #print(X_samples.shape)\n",
        "  #print(X_samples.mean(axis=0))\n",
        "  X = []\n",
        "  y = []\n",
        "  for i in range(N):\n",
        "    #Z = np.random.randn(p, q)\n",
        "    #A_sum = np.zeros((q, q))\n",
        "    #B_sum = np.zeros((p, p))\n",
        "    #for k in range(K_sum):\n",
        "    #  A = A_list[k]\n",
        "    #  B = B_list[k]\n",
        "    #  A_sum += A\n",
        "    #  B_sum += B\n",
        "    #cur_X = B_sum @ Z @ A_sum.T\n",
        "    cur_X = X_samples[i].reshape((p, q), order='F')\n",
        "\n",
        "    X.append(cur_X)\n",
        "    y.append(np.sum(X[-1] * theta_true))\n",
        "\n",
        "  #xx = np.zeros((p * q, p * q))\n",
        "  #x_mean = np.zeros(p * q)\n",
        "  #for i in range(N):\n",
        "  #  vec_x = X[i].reshape(-1, order='F')\n",
        "  #  xx += (vec_x[:, None] @ vec_x[None, :])\n",
        "  #  x_mean += vec_x\n",
        "  #sigma_base = xx / N\n",
        "  #x_mean /= N\n",
        "  #print(x_mean)\n",
        "\n",
        "  #xx = np.zeros((p * q, p * q))\n",
        "  #for i in range(N):\n",
        "  #  vec_x = X[i].reshape(-1, order='F') - x_mean\n",
        "  #  xx += (vec_x[:, None] @ vec_x[None, :])\n",
        "  #sigma_base2 = xx / (N - 1)\n",
        "\n",
        "  #print(np.linalg.norm(sigma_base - sigma_true))\n",
        "  #print(np.linalg.norm(sigma_base2 - sigma_true))\n",
        "\n",
        "  return X, y, theta_true, sigma_true"
      ],
      "metadata": {
        "id": "z0RxR8Z7pj1r"
      },
      "execution_count": null,
      "outputs": []
    },
    {
      "cell_type": "code",
      "source": [
        "X, y, theta_true, sigma_true = generate_reg_data(4, 5, N=100000, K_sum=10)"
      ],
      "metadata": {
        "id": "ntQEh5zuinKr",
        "colab": {
          "base_uri": "https://localhost:8080/"
        },
        "outputId": "d6f6df83-cdc2-4bb2-867c-32b6f838cec2"
      },
      "execution_count": null,
      "outputs": [
        {
          "output_type": "stream",
          "name": "stdout",
          "text": [
            "(100000, 20)\n",
            "[ 0.01392719  0.01823417 -0.02457357 -0.02276408 -0.02424414  0.01900799\n",
            "  0.02295944  0.00549256  0.02278219  0.00667388  0.00212947 -0.01609479\n",
            "  0.01231462 -0.02136538 -0.01526897 -0.00902882 -0.01295073 -0.00232699\n",
            "  0.01476313 -0.01593354]\n"
          ]
        }
      ]
    },
    {
      "cell_type": "code",
      "source": [
        "test_A = np.kron(np.array([[1, 2], [3, 4]]), np.arange(9).reshape((3, 3)))\n",
        "test_A"
      ],
      "metadata": {
        "colab": {
          "base_uri": "https://localhost:8080/"
        },
        "id": "qXRabKJtdRoh",
        "outputId": "98666636-9341-49d6-d701-00c00e5c6530"
      },
      "execution_count": null,
      "outputs": [
        {
          "output_type": "execute_result",
          "data": {
            "text/plain": [
              "array([[ 0,  1,  2,  0,  2,  4],\n",
              "       [ 3,  4,  5,  6,  8, 10],\n",
              "       [ 6,  7,  8, 12, 14, 16],\n",
              "       [ 0,  3,  6,  0,  4,  8],\n",
              "       [ 9, 12, 15, 12, 16, 20],\n",
              "       [18, 21, 24, 24, 28, 32]])"
            ]
          },
          "metadata": {},
          "execution_count": 10
        }
      ]
    },
    {
      "cell_type": "code",
      "source": [
        "def R_operator(A, p, q):\n",
        "  B = np.zeros((p * p, q * q))\n",
        "  for i in range(p):\n",
        "    for j in range(p):\n",
        "      M = A[i * q:(i + 1) * q, j * q:(j + 1) * q]\n",
        "      B[j * p + i, :] = M.reshape(-1, order='F')\n",
        "  return B\n",
        "\n",
        "def R_inv_operator(B, p, q):\n",
        "  A = np.zeros((p * q, p * q))\n",
        "  for i in range(p):\n",
        "    for j in range(p):\n",
        "      M = B[j * p + i, :].reshape((q, q), order='F')\n",
        "      A[i * q:(i + 1) * q, j * q:(j + 1) * q] = M\n",
        "  return A"
      ],
      "metadata": {
        "id": "jCJ7gcDzZA0i"
      },
      "execution_count": null,
      "outputs": []
    },
    {
      "cell_type": "code",
      "source": [
        "test_B = R_operator(test_A, 2, 3)\n",
        "print(test_B)\n",
        "pred_A = R_inv_operator(test_B, 2, 3)\n",
        "print(pred_A)\n",
        "print(np.all(pred_A == test_A))"
      ],
      "metadata": {
        "colab": {
          "base_uri": "https://localhost:8080/"
        },
        "id": "Ltrkun6fe97-",
        "outputId": "24f10d9e-d5f2-4274-b2ff-cc465451c56f"
      },
      "execution_count": null,
      "outputs": [
        {
          "output_type": "stream",
          "name": "stdout",
          "text": [
            "[[ 0.  3.  6.  1.  4.  7.  2.  5.  8.]\n",
            " [ 0.  9. 18.  3. 12. 21.  6. 15. 24.]\n",
            " [ 0.  6. 12.  2.  8. 14.  4. 10. 16.]\n",
            " [ 0. 12. 24.  4. 16. 28.  8. 20. 32.]]\n",
            "[[ 0.  1.  2.  0.  2.  4.]\n",
            " [ 3.  4.  5.  6.  8. 10.]\n",
            " [ 6.  7.  8. 12. 14. 16.]\n",
            " [ 0.  3.  6.  0.  4.  8.]\n",
            " [ 9. 12. 15. 12. 16. 20.]\n",
            " [18. 21. 24. 24. 28. 32.]]\n",
            "True\n"
          ]
        }
      ]
    },
    {
      "cell_type": "code",
      "source": [
        "kek = [np.ones((5, 6))]\n",
        "print(kek)\n",
        "print(kek[0].reshape(-1))\n",
        "print(kek)"
      ],
      "metadata": {
        "colab": {
          "base_uri": "https://localhost:8080/"
        },
        "id": "C8zSSov3selq",
        "outputId": "820882a2-334e-46b6-de6a-8527cd755071"
      },
      "execution_count": null,
      "outputs": [
        {
          "output_type": "stream",
          "name": "stdout",
          "text": [
            "[array([[1., 1., 1., 1., 1., 1.],\n",
            "       [1., 1., 1., 1., 1., 1.],\n",
            "       [1., 1., 1., 1., 1., 1.],\n",
            "       [1., 1., 1., 1., 1., 1.],\n",
            "       [1., 1., 1., 1., 1., 1.]])]\n",
            "[1. 1. 1. 1. 1. 1. 1. 1. 1. 1. 1. 1. 1. 1. 1. 1. 1. 1. 1. 1. 1. 1. 1. 1.\n",
            " 1. 1. 1. 1. 1. 1.]\n",
            "[array([[1., 1., 1., 1., 1., 1.],\n",
            "       [1., 1., 1., 1., 1., 1.],\n",
            "       [1., 1., 1., 1., 1., 1.],\n",
            "       [1., 1., 1., 1., 1., 1.],\n",
            "       [1., 1., 1., 1., 1., 1.]])]\n"
          ]
        }
      ]
    },
    {
      "cell_type": "code",
      "source": [
        "def get_theta_by_sigma(X, y, lambd, sigma):\n",
        "  p, q = X[0].shape\n",
        "  N = len(X)\n",
        "  xy = np.zeros((p * q))\n",
        "  for i in range(N):\n",
        "    xy += X[i].reshape(-1, order='F') * y[i]\n",
        "  xy = xy / N\n",
        "\n",
        "  inv_sigma = np.linalg.inv(sigma + lambd * np.eye(p * q))\n",
        "  theta = inv_sigma @ xy\n",
        "  #theta = np.linalg.inv(sigma + lambd * np.eye(p * q)) @ xy\n",
        "  #print(np.allclose(np.dot(sigma, inv_sigma), np.eye(p * q)))\n",
        "  return theta.reshape((p, q), order='F')\n",
        "\n",
        "\n",
        "def predict_theta(X, y, lambd, K_sum=1):\n",
        "  p, q = X[0].shape\n",
        "  N = len(X)\n",
        "  # стандартная оценка\n",
        "  xx = np.zeros((p * q, p * q))\n",
        "  for i in range(N):\n",
        "    vec_x = X[i].reshape(-1, order='F')\n",
        "    xx += (vec_x[:, None] @ vec_x[None, :])\n",
        "  sigma_base = xx / N\n",
        "\n",
        "  # модифицированная\n",
        "  F1 = np.zeros((q, q))\n",
        "  F2 = np.zeros((p, p))\n",
        "  for i in range(N):\n",
        "    F1 += X[i].T @ X[i]\n",
        "    F2 += X[i] @ X[i].T\n",
        "  F1_mean = F1 / N\n",
        "  F2_mean = F2 / N\n",
        "\n",
        "  norms = 0.0\n",
        "  for i in range(N):\n",
        "    norms += np.linalg.norm(X[i], 'fro')**2\n",
        "  denom = norms / N\n",
        "  sigma_modified = np.kron(F1_mean, F2_mean) / denom\n",
        "\n",
        "  # модифицированная с суммой\n",
        "  R_sigma_base = R_operator(sigma_base, p, q)\n",
        "  U, S, Vh = np.linalg.svd(R_sigma_base, full_matrices=False)\n",
        "  #print(U.shape, S.shape, Vh.shape)\n",
        "  #print(S[:K_sum + 1])\n",
        "  U = U[:, :K_sum]\n",
        "  S = S[:K_sum]\n",
        "  Vh = Vh[:K_sum, :]\n",
        "  #print(U.shape, S.shape, Vh.shape)\n",
        "  R_predict = np.dot((U * S), Vh)\n",
        "  #print(np.linalg.norm(R_predict - R_sigma_base, ord=2))\n",
        "  sigma_modified_sum = R_inv_operator(R_predict, p, q)\n",
        "\n",
        "  # get theta\n",
        "  theta_base = get_theta_by_sigma(X, y, lambd, sigma_base)\n",
        "  theta_modified = get_theta_by_sigma(X, y, lambd, sigma_modified)\n",
        "  theta_modified_sum = get_theta_by_sigma(X, y, lambd, sigma_modified_sum)\n",
        "  return theta_base, theta_modified, theta_modified_sum, sigma_base, sigma_modified, sigma_modified_sum"
      ],
      "metadata": {
        "id": "iA3q8_xw4ENM"
      },
      "execution_count": null,
      "outputs": []
    },
    {
      "cell_type": "code",
      "source": [
        "p = 5\n",
        "q = 5\n",
        "N = 50000\n",
        "lambd = 0.0\n",
        "K_sum = 10\n",
        "X, y, theta_true, sigma_true = generate_reg_data(q, p, N, K_sum)"
      ],
      "metadata": {
        "id": "1Er6HjdM4aru",
        "colab": {
          "base_uri": "https://localhost:8080/"
        },
        "outputId": "953abe8d-c08a-42b6-ea1a-205e996b7a51"
      },
      "execution_count": null,
      "outputs": [
        {
          "output_type": "stream",
          "name": "stdout",
          "text": [
            "(50000, 25)\n",
            "[ 0.00916746 -0.00956452  0.01605287 -0.01945105 -0.00301138  0.00653336\n",
            " -0.03478844  0.00302345 -0.03285931  0.01084574  0.01695469  0.0004344\n",
            "  0.03157735  0.00275142 -0.00587661  0.056667   -0.00194731 -0.01820936\n",
            " -0.04823582  0.00964469 -0.01388993  0.02158882 -0.00736893  0.00852921\n",
            "  0.01225126]\n"
          ]
        }
      ]
    },
    {
      "cell_type": "code",
      "source": [
        "theta_true_by_sigma = get_theta_by_sigma(X, y, lambd, sigma_true)"
      ],
      "metadata": {
        "id": "9VoXCLxH6KhF",
        "colab": {
          "base_uri": "https://localhost:8080/"
        },
        "outputId": "4c6bc757-8f6e-45ec-a184-03cb9cb80044"
      },
      "execution_count": null,
      "outputs": [
        {
          "output_type": "stream",
          "name": "stdout",
          "text": [
            "True\n"
          ]
        }
      ]
    },
    {
      "cell_type": "code",
      "source": [
        "theta_base, theta_modified, theta_modified_sum, sigma_base, sigma_modified, sigma_modified_sum = predict_theta(X, y, lambd, K_sum)"
      ],
      "metadata": {
        "id": "zK7heeHAnly9",
        "colab": {
          "base_uri": "https://localhost:8080/"
        },
        "outputId": "76012c1f-d7b6-4d1a-cf7c-e22c91ba82ba"
      },
      "execution_count": null,
      "outputs": [
        {
          "output_type": "stream",
          "name": "stdout",
          "text": [
            "(25, 25) (25,) (25, 25)\n",
            "[141.3461717   23.90566245  17.50885362  14.78209601  11.9122632\n",
            "   7.91557418   5.40374988   4.84380699   3.29103689   1.73184711\n",
            "   1.09204663]\n",
            "(25, 10) (10,) (10, 25)\n",
            "1.092046625803143\n",
            "True\n",
            "True\n",
            "True\n"
          ]
        }
      ]
    },
    {
      "cell_type": "code",
      "source": [
        "print(np.linalg.norm(sigma_base - sigma_true))\n",
        "print(np.linalg.norm(sigma_modified - sigma_true))\n",
        "print(np.linalg.norm(sigma_modified_sum - sigma_true))\n",
        "print()\n",
        "print(np.linalg.norm(sigma_modified_sum - sigma_base))"
      ],
      "metadata": {
        "colab": {
          "base_uri": "https://localhost:8080/"
        },
        "id": "G2zk63ZY7lhK",
        "outputId": "0a98d7eb-51dd-4911-b375-b76e65510ff4"
      },
      "execution_count": null,
      "outputs": [
        {
          "output_type": "stream",
          "name": "stdout",
          "text": [
            "3.103655603775192\n",
            "36.95812640213519\n",
            "2.4446551268226844\n",
            "\n",
            "1.9177168107452238\n"
          ]
        }
      ]
    },
    {
      "cell_type": "code",
      "source": [
        "print(np.linalg.norm(theta_true_by_sigma - theta_true))\n",
        "print(np.linalg.norm(theta_base - theta_true))\n",
        "print(np.linalg.norm(theta_modified - theta_true))\n",
        "print(np.linalg.norm(theta_modified_sum - theta_true))"
      ],
      "metadata": {
        "colab": {
          "base_uri": "https://localhost:8080/"
        },
        "id": "a5Zkojd06ZwF",
        "outputId": "f12d360e-2ada-406c-b8a4-50b3c46f0f13"
      },
      "execution_count": null,
      "outputs": [
        {
          "output_type": "stream",
          "name": "stdout",
          "text": [
            "0.1347386387674346\n",
            "4.562882409754704e-14\n",
            "1.554609007708581\n",
            "0.1040683762266204\n"
          ]
        }
      ]
    },
    {
      "cell_type": "code",
      "source": [
        "print(theta_true)\n",
        "print(theta_base)\n",
        "print(theta_modified)\n",
        "print(theta_modified_sum)\n",
        "print(theta_true_by_sigma)"
      ],
      "metadata": {
        "colab": {
          "base_uri": "https://localhost:8080/"
        },
        "id": "RJrNFdQ-6hGm",
        "outputId": "65cafc85-153c-47b1-df3e-366616f5e314"
      },
      "execution_count": null,
      "outputs": [
        {
          "output_type": "stream",
          "name": "stdout",
          "text": [
            "[[ 0.72011473 -0.46766325 -1.13122977 -0.36533553  1.32663673]\n",
            " [ 0.0921547   1.01597769 -0.02266041  0.70956558  1.2205303 ]\n",
            " [-0.33624608 -1.10921173  1.19005119  0.90047614 -2.50850291]\n",
            " [-2.20642381 -2.02417295  0.92194815 -0.14655733 -0.34029853]\n",
            " [ 0.26048836  0.56091813 -0.07513927 -0.39345553  1.3286497 ]]\n",
            "[[ 0.72011473 -0.46766325 -1.13122977 -0.36533553  1.32663673]\n",
            " [ 0.0921547   1.01597769 -0.02266041  0.70956558  1.2205303 ]\n",
            " [-0.33624608 -1.10921173  1.19005119  0.90047614 -2.50850291]\n",
            " [-2.20642381 -2.02417295  0.92194815 -0.14655733 -0.34029853]\n",
            " [ 0.26048836  0.56091813 -0.07513927 -0.39345553  1.3286497 ]]\n",
            "[[ 0.86485698 -1.07352974 -1.24577448 -0.12238504  0.79201169]\n",
            " [ 0.26119194  1.01234222 -0.26399158  0.13840451  1.18711836]\n",
            " [-0.56967487 -0.66164193  1.15802067  1.21923754 -2.63530559]\n",
            " [-1.90893661 -1.9890346   0.98769586  0.04073714 -0.4196883 ]\n",
            " [ 0.64984887  0.89039183 -0.08711801 -0.08148821  1.61399771]]\n",
            "[[ 0.74052967 -0.4744746  -1.14333847 -0.40089822  1.36152713]\n",
            " [ 0.09064551  1.02288159 -0.009063    0.7106936   1.23474224]\n",
            " [-0.35517755 -1.08774813  1.14939493  0.91327454 -2.52660553]\n",
            " [-2.23182405 -2.01819676  0.90987412 -0.16962387 -0.33762521]\n",
            " [ 0.23674283  0.56698627 -0.07311701 -0.39441125  1.33216485]]\n",
            "[[ 0.74438323 -0.46351472 -1.12921122 -0.37809577  1.32729344]\n",
            " [ 0.09824381  1.05029689 -0.02427996  0.70571217  1.25519425]\n",
            " [-0.32713944 -1.11459574  1.14164927  0.86280292 -2.53061644]\n",
            " [-2.20577551 -1.99439905  0.9235976  -0.14750515 -0.33380501]\n",
            " [ 0.2585032   0.58156164 -0.05911514 -0.40273115  1.34297476]]\n"
          ]
        }
      ]
    },
    {
      "cell_type": "code",
      "source": [
        "cut_ind = 4\n",
        "print(sigma_true[:cut_ind, :cut_ind])\n",
        "print(sigma_base[:cut_ind, :cut_ind])\n",
        "print(sigma_modified[:cut_ind, :cut_ind])\n",
        "print(sigma_modified_sum[:cut_ind, :cut_ind])"
      ],
      "metadata": {
        "colab": {
          "base_uri": "https://localhost:8080/"
        },
        "id": "C6AeEHsz5v4Q",
        "outputId": "fab565cb-33b4-47a6-e233-91ab42e4a848"
      },
      "execution_count": null,
      "outputs": [
        {
          "output_type": "stream",
          "name": "stdout",
          "text": [
            "[[15.80100248  4.14638535  2.90334436  2.48541751]\n",
            " [ 4.14638535 21.33932457 -1.09687864 -2.1607062 ]\n",
            " [ 2.90334436 -1.09687864 16.11848693 -3.53994968]\n",
            " [ 2.48541751 -2.1607062  -3.53994968 20.51773301]]\n",
            "[[15.69189791  4.05005911  2.9322458   2.51210673]\n",
            " [ 4.05005911 21.35176578 -1.2161712  -2.10985723]\n",
            " [ 2.9322458  -1.2161712  16.10857087 -3.3550272 ]\n",
            " [ 2.51210673 -2.10985723 -3.3550272  20.45846651]]\n",
            "[[15.80206468  4.47905827  3.11659142  3.01159017]\n",
            " [ 4.47905827 21.54216478 -0.60737853 -1.81236405]\n",
            " [ 3.11659142 -0.60737853 16.30890982 -1.88218794]\n",
            " [ 3.01159017 -1.81236405 -1.88218794 19.99788659]]\n",
            "[[15.77545933  4.03512841  2.99875335  2.46233912]\n",
            " [ 4.03512841 21.36762747 -1.21886661 -2.14587661]\n",
            " [ 2.99875335 -1.21886661 16.15323432 -3.33581905]\n",
            " [ 2.46233912 -2.14587661 -3.33581905 20.49144605]]\n"
          ]
        }
      ]
    },
    {
      "cell_type": "code",
      "source": [
        "import matplotlib.pyplot as plt\n",
        "\n",
        "samples = 5\n",
        "lambd = 0.0001\n",
        "N_coef_list = [1, 5] + list(range(10, 100 + 1, 20))\n",
        "print(N_coef_list)\n",
        "\n",
        "q = 100\n",
        "p = 3\n",
        "K_sum = 10\n",
        "\n",
        "\n",
        "fro_norms = {\n",
        "    \"sigma\": {},\n",
        "    \"theta\": {}\n",
        "}\n",
        "N_cnt = len(N_coef_list)\n",
        "for first_name in [\"sigma\", \"theta\"]:\n",
        "    for second_name in [\"zero\", \"base\", \"modified\", \"modified_sum\"]:\n",
        "      fro_norms[first_name][second_name] = np.zeros((N_cnt, samples))\n",
        "fro_norms[\"theta\"][\"from_true_sigma\"] = np.zeros((N_cnt, samples))\n",
        "\n",
        "for N_ind, N_coef in enumerate(N_coef_list):\n",
        "  for sample_ind in range(samples):\n",
        "    N = round(N_coef * p * q)\n",
        "    X, y, theta_true, sigma_true = generate_reg_data(q, p, N, K_sum)\n",
        "    theta_base, theta_modified, theta_modified_sum, sigma_base, sigma_modified, sigma_modified_sum = predict_theta(X, y, lambd, K_sum)\n",
        "    theta_from_true_sigma = get_theta_by_sigma(X, y, lambd, sigma_true)\n",
        "\n",
        "    fro_norms[\"sigma\"][\"zero\"][N_ind, sample_ind] = np.linalg.norm(sigma_true)\n",
        "    fro_norms[\"sigma\"][\"base\"][N_ind, sample_ind] = np.linalg.norm(sigma_base - sigma_true)\n",
        "    fro_norms[\"sigma\"][\"modified\"][N_ind, sample_ind] = np.linalg.norm(sigma_modified - sigma_true)\n",
        "    fro_norms[\"sigma\"][\"modified_sum\"][N_ind, sample_ind] = np.linalg.norm(sigma_modified_sum - sigma_true)\n",
        "\n",
        "    fro_norms[\"theta\"][\"zero\"][N_ind, sample_ind] = np.linalg.norm(theta_true)\n",
        "    fro_norms[\"theta\"][\"base\"][N_ind, sample_ind] = np.linalg.norm(theta_base - theta_true)\n",
        "    fro_norms[\"theta\"][\"modified\"][N_ind, sample_ind] = np.linalg.norm(theta_modified - theta_true)\n",
        "    fro_norms[\"theta\"][\"modified_sum\"][N_ind, sample_ind] = np.linalg.norm(theta_modified_sum - theta_true)\n",
        "    fro_norms[\"theta\"][\"from_true_sigma\"][N_ind, sample_ind] = np.linalg.norm(theta_from_true_sigma - theta_true)\n",
        "  print(N_ind)\n",
        "\n",
        "plot_colors = [\"b\", \"g\", \"r\", \"y\"]\n",
        "\n",
        "fig = plt.figure(figsize=(12, 6))\n",
        "for plot_ind, plot_name in enumerate([\"base\", \"modified\", \"modified_sum\"]):\n",
        "  arr = np.log10(fro_norms[\"sigma\"][plot_name])\n",
        "  mean_arr = np.mean(arr, axis=1)\n",
        "  std_arr = np.std(arr, axis=1)\n",
        "  plt.fill_between(N_coef_list, mean_arr - std_arr, mean_arr + std_arr, alpha=0.2, color=plot_colors[plot_ind])\n",
        "  plt.plot(N_coef_list, mean_arr, label=plot_name, color=plot_colors[plot_ind])\n",
        "\n",
        "plt.legend()\n",
        "plt.show()\n",
        "\n",
        "fig = plt.figure(figsize=(12, 6))\n",
        "for plot_ind, plot_name in enumerate([\"base\", \"modified\", \"modified_sum\", \"from_true_sigma\"]):\n",
        "  arr = np.log10(fro_norms[\"theta\"][plot_name])\n",
        "  mean_arr = np.mean(arr, axis=1)\n",
        "  std_arr = np.std(arr, axis=1)\n",
        "  plt.fill_between(N_coef_list, mean_arr - std_arr, mean_arr + std_arr, alpha=0.2, color=plot_colors[plot_ind])\n",
        "  plt.plot(N_coef_list, mean_arr, label=plot_name, color=plot_colors[plot_ind])\n",
        "  # np.clip(mean_arr - std_arr, a_min=0.0, a_max=None)\n",
        "plt.legend()\n",
        "plt.show()"
      ],
      "metadata": {
        "id": "jJ5VWaImBKWv",
        "colab": {
          "base_uri": "https://localhost:8080/",
          "height": 1000
        },
        "outputId": "c2892e77-221f-44c3-9f16-720826b09eb1"
      },
      "execution_count": null,
      "outputs": [
        {
          "output_type": "stream",
          "name": "stdout",
          "text": [
            "[1, 5, 10, 30, 50, 70, 90]\n",
            "0\n",
            "1\n",
            "2\n",
            "3\n",
            "4\n",
            "5\n",
            "6\n"
          ]
        },
        {
          "output_type": "display_data",
          "data": {
            "text/plain": [
              "<Figure size 1200x600 with 1 Axes>"
            ],
            "image/png": "[encoded data removed]"
          },
          "metadata": {}
        },
        {
          "output_type": "display_data",
          "data": {
            "text/plain": [
              "<Figure size 1200x600 with 1 Axes>"
            ],
            "image/png": "[encoded data removed]"
          },
          "metadata": {}
        }
      ]
    },
    {
      "cell_type": "code",
      "source": [
        "fro_norms[\"sigma\"]"
      ],
      "metadata": {
        "colab": {
          "base_uri": "https://localhost:8080/"
        },
        "id": "rkGfbikgGyZp",
        "outputId": "932a5361-301e-4d8f-aaba-cbe3a8308ce3"
      },
      "execution_count": null,
      "outputs": [
        {
          "output_type": "execute_result",
          "data": {
            "text/plain": [
              "{'zero': array([[6424.63641664, 5447.70835545, 5213.07702243, 6123.57519168,\n",
              "         7102.87126189],\n",
              "        [8351.85797343, 6680.70268729, 7388.55778384, 4292.6007867 ,\n",
              "         5796.7682017 ],\n",
              "        [4998.43513802, 5064.7996164 , 5861.31898104, 5696.43013116,\n",
              "         6485.73045409],\n",
              "        [6667.22907728, 6299.72628761, 6639.30212628, 6702.45105859,\n",
              "         5261.61328889],\n",
              "        [5901.56466692, 6832.40644634, 6996.90906934, 5983.24382129,\n",
              "         6319.11615613],\n",
              "        [5961.37078617, 6008.69315293, 6072.25706609, 5617.08208027,\n",
              "         5856.42788517],\n",
              "        [6928.70188711, 5700.05243136, 5473.47812011, 7195.3429088 ,\n",
              "         6950.14933161]]),\n",
              " 'base': array([[5288.47427817, 4505.97024375, 4405.26714877, 5174.83961965,\n",
              "         5995.08892233],\n",
              "        [3288.98080973, 2543.96105657, 2757.43817001, 1657.18508109,\n",
              "         2231.3065153 ],\n",
              "        [1369.03995233, 1450.10077902, 1669.15690319, 1577.68623317,\n",
              "         1804.2743197 ],\n",
              "        [1083.18315539, 1009.60237942, 1085.35466891, 1054.06074446,\n",
              "          824.53691393],\n",
              "        [ 731.66864699,  829.78030623,  809.64848148,  707.26400969,\n",
              "          765.51047934],\n",
              "        [ 631.90251148,  614.61707088,  613.02028785,  582.20229377,\n",
              "          624.03601921],\n",
              "        [ 618.61365237,  510.49544758,  504.24945871,  667.35317053,\n",
              "          643.20756257]]),\n",
              " 'modified': array([[2766.95512281, 2299.15762702, 2288.32004556, 2723.13315002,\n",
              "         2894.14067422],\n",
              "        [2502.0829    , 1740.06657471, 2226.50392486, 1416.94541149,\n",
              "         1637.16711207],\n",
              "        [1363.37238814, 1206.16527659, 1695.04528202, 1473.01100998,\n",
              "         1881.98820351],\n",
              "        [1883.81129318, 1794.36076736, 2054.0718931 , 1660.91986011,\n",
              "         1259.74004007],\n",
              "        [1483.13394265, 1415.54818986, 1935.92587237, 1076.9319347 ,\n",
              "         1659.70424471],\n",
              "        [1762.8101985 , 1613.74302629, 1661.83882981, 1394.3644933 ,\n",
              "         1696.39988157],\n",
              "        [2163.34590993, 1584.8048149 , 1566.67297005, 2118.70049325,\n",
              "         1674.89636663]]),\n",
              " 'modified_sum': array([[5288.47427817, 4505.97024375, 4405.26714877, 5174.83961965,\n",
              "         5995.08892233],\n",
              "        [3288.98080973, 2543.96105657, 2757.43817001, 1657.18508109,\n",
              "         2231.3065153 ],\n",
              "        [1369.03995233, 1450.10077902, 1669.15690319, 1577.68623317,\n",
              "         1804.2743197 ],\n",
              "        [1083.18315539, 1009.60237942, 1085.35466891, 1054.06074446,\n",
              "          824.53691393],\n",
              "        [ 731.66864699,  829.78030623,  809.64848148,  707.26400969,\n",
              "          765.51047934],\n",
              "        [ 631.90251148,  614.61707088,  613.02028785,  582.20229377,\n",
              "          624.03601921],\n",
              "        [ 618.61365237,  510.49544758,  504.24945871,  667.35317053,\n",
              "          643.20756257]])}"
            ]
          },
          "metadata": {},
          "execution_count": 92
        }
      ]
    },
    {
      "cell_type": "code",
      "source": [
        "fro_norms[\"theta\"]"
      ],
      "metadata": {
        "colab": {
          "base_uri": "https://localhost:8080/"
        },
        "id": "30eIbUPm0QKf",
        "outputId": "a099f5b2-5bad-419c-d14a-61cb3ded8290"
      },
      "execution_count": null,
      "outputs": [
        {
          "output_type": "execute_result",
          "data": {
            "text/plain": [
              "{'zero': array([[17.64726408, 16.09961725, 15.92290117, 16.76174865, 15.93953146],\n",
              "        [16.49846009, 17.16165653, 18.17335228, 17.52706163, 18.29294566],\n",
              "        [15.89358517, 17.38713446, 16.78906963, 17.56538729, 17.52694618],\n",
              "        [17.59633528, 17.78822835, 17.31666787, 17.38513996, 16.74507355],\n",
              "        [16.72031091, 17.67961232, 17.00572009, 16.47255762, 16.14108139],\n",
              "        [17.98008152, 18.31544544, 17.61442392, 16.62458029, 17.11070182],\n",
              "        [16.41355118, 16.72157782, 17.50409898, 17.04549849, 18.40972808]]),\n",
              " 'base': array([[6.28417046e-02, 3.07813160e-02, 1.39547868e-01, 3.22532935e-02,\n",
              "         3.77687033e-02],\n",
              "        [8.43492182e-06, 1.28239735e-05, 1.39818018e-05, 1.67218428e-05,\n",
              "         1.46878589e-05],\n",
              "        [1.18974034e-05, 1.12955086e-05, 8.75077851e-06, 1.16697472e-05,\n",
              "         9.46813340e-06],\n",
              "        [8.28714961e-06, 9.06857393e-06, 7.54911471e-06, 1.02883423e-05,\n",
              "         1.15484146e-05],\n",
              "        [8.59439930e-06, 9.15113425e-06, 8.96380053e-06, 1.03195129e-05,\n",
              "         7.98496554e-06],\n",
              "        [9.24038336e-06, 1.10059563e-05, 1.03929572e-05, 9.44647194e-06,\n",
              "         8.49590583e-06],\n",
              "        [8.20174861e-06, 1.05872824e-05, 1.00334140e-05, 6.81116899e-06,\n",
              "         8.55130921e-06]]),\n",
              " 'modified': array([[24.60972288, 22.51048571, 19.05728562, 19.57768131, 22.08215634],\n",
              "        [ 9.40075106, 10.45298803, 11.12156956, 10.46890245, 10.76854201],\n",
              "        [ 7.81560372,  7.24358285,  7.82392294,  8.30397762,  8.90865927],\n",
              "        [ 6.76537025,  7.27233816,  7.45505471,  6.481659  ,  7.26817085],\n",
              "        [ 5.58470543,  6.03254158,  6.70086333,  4.8751809 ,  5.90823843],\n",
              "        [ 7.17969718,  6.30955806,  7.54340983,  5.69478248,  6.16309184],\n",
              "        [ 7.62445116,  6.17464034,  6.74070648,  6.3241426 ,  6.26688631]]),\n",
              " 'modified_sum': array([[6.28417049e-02, 3.07813165e-02, 1.39547868e-01, 3.22532932e-02,\n",
              "         3.77687034e-02],\n",
              "        [8.43492183e-06, 1.28239735e-05, 1.39818019e-05, 1.67218428e-05,\n",
              "         1.46878590e-05],\n",
              "        [1.18974034e-05, 1.12955086e-05, 8.75077849e-06, 1.16697473e-05,\n",
              "         9.46813342e-06],\n",
              "        [8.28714959e-06, 9.06857390e-06, 7.54911469e-06, 1.02883423e-05,\n",
              "         1.15484146e-05],\n",
              "        [8.59439928e-06, 9.15113423e-06, 8.96380053e-06, 1.03195129e-05,\n",
              "         7.98496556e-06],\n",
              "        [9.24038334e-06, 1.10059563e-05, 1.03929572e-05, 9.44647199e-06,\n",
              "         8.49590582e-06],\n",
              "        [8.20174861e-06, 1.05872824e-05, 1.00334140e-05, 6.81116902e-06,\n",
              "         8.55130924e-06]]),\n",
              " 'from_true_sigma': array([[22.26382571, 20.66988817, 18.75048711, 18.76110306, 20.11728444],\n",
              "        [ 8.37512733,  9.84702942,  9.8247749 ,  9.55858502,  9.95855068],\n",
              "        [ 6.1623921 ,  6.42796156,  6.36967158,  7.08889168,  6.70269472],\n",
              "        [ 3.6308448 ,  3.99091131,  3.82173981,  4.20150022,  3.92001894],\n",
              "        [ 2.70842074,  2.95186896,  2.9773761 ,  2.74521279,  2.53396984],\n",
              "        [ 2.24120217,  2.61697681,  2.68105869,  2.44944197,  2.22022994],\n",
              "        [ 2.19441137,  1.88528693,  2.39591874,  2.04690052,  2.26224305]])}"
            ]
          },
          "metadata": {},
          "execution_count": 93
        }
      ]
    },
    {
      "cell_type": "code",
      "source": [
        "theta_true"
      ],
      "metadata": {
        "colab": {
          "base_uri": "https://localhost:8080/"
        },
        "id": "q1_qr41Gn5ks",
        "outputId": "aed9dc36-9033-4011-b89f-7af1066ab328"
      },
      "execution_count": null,
      "outputs": [
        {
          "output_type": "execute_result",
          "data": {
            "text/plain": [
              "array([[ 17.90891102,  16.23753948,   6.84010484, -10.56239081,\n",
              "         25.98171734,  25.76967191,  41.29759835,  24.62136055,\n",
              "         15.29256649,  11.3748522 ],\n",
              "       [ 17.1758162 ,  -4.93422255,   3.72433583,   0.41433086,\n",
              "         10.07644144,   1.63183757,  14.97083063,   8.91262045,\n",
              "         11.46168531,  13.9725891 ],\n",
              "       [-14.11551414,  21.90354468,  17.60495837,   5.2450438 ,\n",
              "          4.66476261,   2.52534396,  -0.21398963,   8.34538355,\n",
              "         -8.02806618,  -0.33079917],\n",
              "       [  6.16802568,  24.55803733,  17.06547909,  19.92705912,\n",
              "          9.99396868,   2.20872433,   7.46555258,  29.95582366,\n",
              "         11.18889719,  10.38895102],\n",
              "       [ 17.08984595,   2.48913088,  10.85742846,  -2.06121512,\n",
              "          9.64443811,   8.51368858,  20.56695768,  -7.40925275,\n",
              "         12.13457193,  15.65205058],\n",
              "       [ 14.95179307,  12.12361648,   9.04881988,  24.20009928,\n",
              "          9.11020844,  23.86235254,  18.18192648,   8.07881052,\n",
              "          6.53790898,  -3.14547202],\n",
              "       [ 15.45444332,  14.57045977,   5.81459202,  11.75323983,\n",
              "         15.19688521,   6.49183365,  20.0215805 ,   2.82331643,\n",
              "          7.16041206,  15.0317832 ],\n",
              "       [  7.25493066,  22.62123714,  19.47734847,   2.72379243,\n",
              "         21.47946038,  24.93920038,  11.2211593 ,   5.04747418,\n",
              "          2.44966862,  15.57275727],\n",
              "       [  8.31003752,   7.96194349,  18.05501535,   2.61713211,\n",
              "         19.03372628,   6.13107667,   9.97679424,  -3.81314278,\n",
              "         19.54694451, -11.32025417],\n",
              "       [ 22.22692053,  19.87886564,  -0.32846858,  -4.96577186,\n",
              "         12.30055397,   7.27108747,  21.23216747,  -4.37488508,\n",
              "          8.12843168,  10.15432856]])"
            ]
          },
          "metadata": {},
          "execution_count": 44
        }
      ]
    },
    {
      "cell_type": "code",
      "source": [
        "theta_modified"
      ],
      "metadata": {
        "colab": {
          "base_uri": "https://localhost:8080/"
        },
        "id": "zoVdiHBYiOjr",
        "outputId": "c17a20c8-bbce-4d15-d9ff-f26e2205ce01"
      },
      "execution_count": null,
      "outputs": [
        {
          "output_type": "execute_result",
          "data": {
            "text/plain": [
              "array([[ 400.05329775,   52.63876383, -276.86720156, -197.0685166 ,\n",
              "          93.31223047, -408.37238956,   32.72840955,  302.56648946,\n",
              "         190.90141559,  -54.12370012],\n",
              "       [-347.26203854, -261.87210299,  594.20347819,  487.11537388,\n",
              "        -334.00743295,  -29.35640307,   -9.07053845, -128.1138749 ,\n",
              "         -20.09794547,  232.36820978],\n",
              "       [ 384.25207762,  191.54570033, -113.22400543, -445.26176557,\n",
              "          20.82674587,  -53.1247595 ,   36.0948859 ,  189.17134521,\n",
              "         -34.66004824,  -64.61282373],\n",
              "       [ 445.30626849,  -21.13611823, -193.92751925,   18.74706622,\n",
              "          93.29891913, -539.57791675, -253.22458104,  487.92107022,\n",
              "         191.72369168,  -87.73886132],\n",
              "       [-280.88826239,   43.41168739,  253.47725638, -292.09982727,\n",
              "           1.12120677,  276.98541116,  305.00649163,  -76.71854613,\n",
              "        -203.00106659,  358.97043918],\n",
              "       [-223.36608475, -269.7000503 ,   20.44044683,  316.30060151,\n",
              "         -41.41487895,  220.34661017,   21.02192521,  -30.65492873,\n",
              "         106.08348232, -113.42049975],\n",
              "       [ 536.98749615,  169.89935252, -383.21894076, -261.9698001 ,\n",
              "         350.24638299, -177.16554074, -117.67677326,  155.23597144,\n",
              "         -10.60420137, -163.70597394],\n",
              "       [-318.88285999,  105.07318365,   72.03870797,  713.83099643,\n",
              "          36.06228907,  252.04073073, -196.97060877, -447.76076567,\n",
              "        -122.37257473, -147.02401869],\n",
              "       [ 332.14318559, -140.19367792,  133.19360014, -178.22311162,\n",
              "         211.5623295 ,  -13.76968186, -206.71505153,  105.75003385,\n",
              "         -80.75011608,    7.41624223],\n",
              "       [-547.10352433,  111.97788687,   89.34462192,   51.16238094,\n",
              "        -260.90966695,  335.10309688,  394.50062189, -244.04286056,\n",
              "          97.24799432,  107.74486815]])"
            ]
          },
          "metadata": {},
          "execution_count": 45
        }
      ]
    },
    {
      "cell_type": "code",
      "source": [
        "theta_modified_sum"
      ],
      "metadata": {
        "colab": {
          "base_uri": "https://localhost:8080/"
        },
        "id": "3qZ9yhrNn4il",
        "outputId": "505fe7b1-442d-4124-9e8d-2d27c4c661ff"
      },
      "execution_count": null,
      "outputs": [
        {
          "output_type": "execute_result",
          "data": {
            "text/plain": [
              "array([[-1.15392211e+02,  3.66897838e+01,  1.59729066e+02,\n",
              "         9.34804929e+01, -7.84656976e+01, -1.35165124e+02,\n",
              "        -7.62961642e-02, -1.08219883e+02,  3.01253444e+01,\n",
              "         1.53681731e+02],\n",
              "       [-1.37618547e+01,  7.13279491e+01,  7.96072761e+01,\n",
              "        -7.19051734e+01, -1.65680621e+01,  1.79222592e+01,\n",
              "        -6.01587917e+01,  1.60574349e+02,  2.67091786e+01,\n",
              "         1.52797971e+01],\n",
              "       [-1.16882412e+02, -3.80183703e+00,  5.11606314e+01,\n",
              "        -1.81322981e+02, -7.28704704e+01,  5.04078012e+01,\n",
              "        -1.50972478e+01, -1.67385435e+02, -1.94390715e+02,\n",
              "         1.16118930e+02],\n",
              "       [-8.27232775e+01, -8.16090553e+01, -8.04014466e+01,\n",
              "         7.51284717e+01, -1.04849727e+02,  2.12449456e+01,\n",
              "        -1.30523668e+02, -6.47820396e+01, -2.52982713e+01,\n",
              "         1.11226029e+01],\n",
              "       [ 9.82340173e+01,  1.12916471e+02,  1.10246171e+02,\n",
              "         9.08926716e+01, -4.67428971e-01, -8.39956275e+01,\n",
              "         8.87003919e+01,  1.58965818e+02,  1.89863674e+01,\n",
              "        -9.19700631e+01],\n",
              "       [ 2.14731740e+01, -1.65419042e+02,  1.07188031e+01,\n",
              "         1.29982466e+02,  1.38998729e+02,  2.88646257e+02,\n",
              "         3.87305911e+01, -7.75243628e+01, -3.64840836e+01,\n",
              "        -2.07254247e+01],\n",
              "       [ 2.12687231e+01,  4.37030614e+01, -5.88195106e+01,\n",
              "         8.03620711e+01, -5.51242325e+01, -4.20953826e+01,\n",
              "         7.09587669e+01, -7.87908398e+01, -9.36857198e+01,\n",
              "         5.39069493e+01],\n",
              "       [-7.89476277e+01,  1.06621419e+02,  3.07608939e+01,\n",
              "         1.52275188e+02, -2.28290127e-01,  1.72646630e+02,\n",
              "         1.60160792e+02,  1.18659631e+02,  4.99074496e+01,\n",
              "         6.62961532e+00],\n",
              "       [-9.59952341e+01, -7.03503967e+01,  1.84984881e+02,\n",
              "         4.07848771e+01, -1.24887713e+02,  3.96812857e+01,\n",
              "        -1.23210621e+02, -1.34382531e+02, -6.39145439e+00,\n",
              "         6.19735697e+01],\n",
              "       [ 9.24419757e+01,  1.38066907e+00,  3.14708027e+01,\n",
              "         3.50965737e+01,  2.58014286e+01, -3.12252458e+01,\n",
              "         1.27204300e+02,  1.24676364e+02,  2.32517686e+01,\n",
              "        -4.85659026e+01]])"
            ]
          },
          "metadata": {},
          "execution_count": 46
        }
      ]
    },
    {
      "cell_type": "code",
      "source": [],
      "metadata": {
        "id": "O_T5Movq0gIG"
      },
      "execution_count": null,
      "outputs": []
    }
  ]
}